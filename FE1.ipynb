{
 "cells": [
  {
   "cell_type": "code",
   "execution_count": null,
   "id": "c1548db6",
   "metadata": {},
   "outputs": [],
   "source": [
    "# Performing Feature Engineering on Titanic dataset"
   ]
  },
  {
   "cell_type": "code",
   "execution_count": null,
   "id": "72503d49",
   "metadata": {},
   "outputs": [],
   "source": []
  }
 ],
 "metadata": {
  "kernelspec": {
   "display_name": "Python 3",
   "language": "python",
   "name": "python3"
  },
  "language_info": {
   "name": "python",
   "version": "-1.-1.-1"
  }
 },
 "nbformat": 4,
 "nbformat_minor": 5
}
